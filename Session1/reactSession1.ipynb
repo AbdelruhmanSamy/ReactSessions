{
 "cells": [
  {
   "cell_type": "markdown",
   "metadata": {
    "vscode": {
     "languageId": "plaintext"
    }
   },
   "source": [
    "# <font color=\"Cyan\">React.js </font>Tutorial\n",
    "\n",
    "<p align=\"center\">\n",
    "<img src=\"https://external-content.duckduckgo.com/iu/?u=https%3A%2F%2Fwww.wisdomgeek.com%2Fwp-content%2Fuploads%2F2018%2F10%2Freact.png&f=1&nofb=1&ipt=e50264d94efcb5290565883cd39baeabb3d3e748c952f621fa287d7e0dc1a3fa&ipo=images\" width=\"100%\"/>\n",
    "</p>\n",
    "\n",
    "<br/>\n",
    "<br/>\n",
    "<br/>\n",
    "<br/>\n",
    "<br/>\n",
    "<br/>\n",
    "<br/>\n",
    "<br/>\n",
    "\n",
    "<p align=\"center\">\n",
    "<img src=\"https://external-content.duckduckgo.com/iu/?u=https%3A%2F%2Fi.redd.it%2Fis6g2hhwnxj81.jpg&f=1&nofb=1&ipt=df03e1a0017c76d13244173b73df220b3f92fe71c5773fcf4a99015e044200ee&ipo=images\" width =\"50%\">\n",
    "</p>"
   ]
  },
  {
   "cell_type": "markdown",
   "metadata": {},
   "source": [
    "## Why do we need to learn something new?\n",
    "<p align=\"center\">\n",
    "<img src = \"https://media.dev.to/cdn-cgi/image/width=800%2Cheight=%2Cfit=scale-down%2Cgravity=auto%2Cformat=auto/https%3A%2F%2Fdev-to-uploads.s3.amazonaws.com%2Fi%2Ff3n9ae95mmihwosqvk25.jpeg\" width=600 height=600/>\n",
    "</p>\n",
    "\n",
    "### Vanilla js cons\n",
    "1. Deals with Websites as pages\n",
    "   - Code Redundancy\n",
    "   - Limits scalability\n",
    "   - Hard to maintain and test\n",
    "2. Bad performance\n",
    "   - Vanilla js directly updates changes to the DOM \n",
    "3. Imperative programming style\n",
    "   - worser in writing code"
   ]
  },
  {
   "cell_type": "markdown",
   "metadata": {
    "vscode": {
     "languageId": "javascript"
    }
   },
   "source": [
    "## Why React?\n",
    "- React is the most commonly used and popular web (library / framework??? come back to this later)\n",
    "- Large community\n",
    "- Good performace\n",
    "\n",
    "<p align=\"center\">\n",
    "<img src=\"https://res.cloudinary.com/practicaldev/image/fetch/s--M8qwchOy--/c_limit%2Cf_auto%2Cfl_progressive%2Cq_auto%2Cw_800/https://miro.medium.com/v2/resize:fit:1400/format:webp/1%2AgvR22UbPhRDzFPn4vwyJIg.png\" width=\"100%\"/>\n",
    "</p>"
   ]
  },
  {
   "cell_type": "markdown",
   "metadata": {
    "vscode": {
     "languageId": "plaintext"
    }
   },
   "source": [
    "## What is React?\n",
    "### 1. Framework or library?\n",
    "- But what is the difference?\n",
    "- The difference is in <font color=\"yellow\">Who calls whom</font>\n",
    "- Framework: \n",
    "  - framework's code calls our code\n",
    "  - It has defined open or unimplemented functions or objects which the user writes to create a custom application.\n",
    "- library: \n",
    "  - our code calls library's code\n",
    "  - It provides a set of helper functions/objects/modules which your application code calls for specific functionality\n",
    "### 2. Components in react\n",
    "- React founders realized that everything in a web is in the form of components\n",
    "- So it got the idea of building interfaces form small pieces called <font color=\"green\">Components</font>\n",
    "  \n",
    "<img src=\"https://i.imgur.com/56xCHz2.png\"/>\n",
    "\n",
    "- Example on using react as a library in js ( <font color=\"yellow\">Warning </font>: we never write react by this method, this is only for understanding purpose ):\n",
    "\n",
    "  <hr/>\n",
    "\n",
    "  ```html\n",
    "  <!DOCTYPE html>\n",
    "  <html lang=\"en\">\n",
    "  <head>\n",
    "      <meta charset=\"UTF-8\">\n",
    "      <meta name=\"viewport\" content=\"width=device-width, initial-scale=1.0\">\n",
    "      <title>React with Vanilla JS</title>\n",
    "  </head>\n",
    "  <body>\n",
    "      <!-- Root element where React will render -->\n",
    "      <div id=\"root\"></div>\n",
    "\n",
    "      <!-- Include React and ReactDOM from CDN -->\n",
    "      <script src=\"https://unpkg.com/react@18/umd/react.production.min.js\" crossorigin></script>\n",
    "      <script src=\"https://unpkg.com/react-dom@18/umd/react-dom.production.min.js\" crossorigin></script>\n",
    "\n",
    "      <!-- Your custom JavaScript -->\n",
    "      <script src=\"app.js\"></script>\n",
    "  </body>\n",
    "  </html>\n",
    "\n",
    "  ```\n",
    "  app.js file:\n",
    "\n",
    "  ```js\n",
    "  // Create a simple React component\n",
    "  function Greeting() {\n",
    "      return React.createElement('h1', null, 'Hello, World from React!');\n",
    "  }\n",
    "\n",
    "  // Render the component to the DOM\n",
    "  ReactDOM.render(\n",
    "      React.createElement(Greeting), // The component to render\n",
    "      document.getElementById('root') // The DOM element to render into\n",
    "  );\n",
    "\n",
    "  ```\n",
    "  <hr/>\n",
    "\n",
    "\n",
    "- Forget all about the previous code, here is how we make hello world component in react\n",
    "\n",
    "  <hr/>\n",
    "\n",
    "    ```jsx\n",
    "    import React from 'react';\n",
    "\n",
    "    function Greeting() {\n",
    "      return (\n",
    "        <div>\n",
    "          <h1>Hello, World!</h1>\n",
    "          <p>Welcome to my first React component!</p>\n",
    "        </div>\n",
    "      );\n",
    "    }\n",
    "\n",
    "    export default Greeting;\n",
    "    ```\n",
    "    \n",
    "  <hr/>\n"
   ]
  },
  {
   "cell_type": "markdown",
   "metadata": {},
   "source": [
    "## <font color=\"LemonChiffon\"> React Basics </font>\n",
    "\n",
    "### <font color=\"white\"> JavaScript XML </font>\n",
    " Simply replaces HTML and JavaScript with JSX\n",
    "\n",
    "\n",
    "<div align=\"center\">\n",
    "<img src=\"https://i.imgflip.com/2kuh6f.jpg\">\n",
    "</div>\n",
    "\n",
    "1. Can be `assigned` to variables\n"
   ]
  },
  {
   "cell_type": "code",
   "execution_count": null,
   "metadata": {
    "vscode": {
     "languageId": "javascript"
    }
   },
   "outputs": [],
   "source": [
    "const myElement = <input type=\"text\" />;        // transpiles to a JavaScript object"
   ]
  },
  {
   "cell_type": "markdown",
   "metadata": {},
   "source": [
    "- Use `parenthesis` if multiline"
   ]
  },
  {
   "cell_type": "code",
   "execution_count": null,
   "metadata": {
    "vscode": {
     "languageId": "javascript"
    }
   },
   "outputs": [],
   "source": [
    "const myElement = (\n",
    "    <ul>\n",
    "      <li>Apples</li>\n",
    "      <li>Bananas</li>\n",
    "      <li>Cherries</li>\n",
    "      {/* Supports poor syntax for comments */}\n",
    "    </ul>\n",
    "  );"
   ]
  },
  {
   "cell_type": "markdown",
   "metadata": {},
   "source": [
    "2. Must have a `top-level element`"
   ]
  },
  {
   "cell_type": "code",
   "execution_count": null,
   "metadata": {
    "vscode": {
     "languageId": "javascript"
    }
   },
   "outputs": [],
   "source": [
    "const myElement = (\n",
    "    <>\n",
    "      <p>I am a paragraph.</p>\n",
    "      <p>I am a paragraph too.</p>\n",
    "    </>\n",
    "  );"
   ]
  },
  {
   "cell_type": "markdown",
   "metadata": {
    "vscode": {
     "languageId": "javascript"
    }
   },
   "source": [
    "3. Must be `closed` if needed"
   ]
  },
  {
   "cell_type": "code",
   "execution_count": null,
   "metadata": {
    "vscode": {
     "languageId": "javascript"
    }
   },
   "outputs": [],
   "source": [
    "const myElement = <input type=\"text\" />;"
   ]
  },
  {
   "cell_type": "markdown",
   "metadata": {
    "vscode": {
     "languageId": "javascript"
    }
   },
   "source": [
    "4. JavaScript expressions in `content` or `attribute values` can evaluate if surrounded by {}"
   ]
  },
  {
   "cell_type": "code",
   "execution_count": null,
   "metadata": {
    "vscode": {
     "languageId": "javascript"
    }
   },
   "outputs": [],
   "source": [
    "const add = (a, b) => a + b;\n",
    "const z = 5;\n",
    "const y = 2;\n",
    "const m = \"center\";\n",
    "const myElement = <h1>React is {add(y + 2, z * 3) - y} times better with JSX</h1>;"
   ]
  },
  {
   "cell_type": "markdown",
   "metadata": {},
   "source": [
    "Notice that hyphenated attributes should be given in camelCase"
   ]
  },
  {
   "cell_type": "code",
   "execution_count": null,
   "metadata": {
    "vscode": {
     "languageId": "javascript"
    }
   },
   "outputs": [],
   "source": [
    "const handleClick = () => alert('Button clicked!');\n",
    "const element = <button onClick={handleClick}>Click me</button>;    \n",
    "// any event takes a function object in {} and calls it when the event occurs"
   ]
  },
  {
   "cell_type": "markdown",
   "metadata": {
    "vscode": {
     "languageId": "javascript"
    }
   },
   "source": [
    "5. Use `className` instead of `class` "
   ]
  },
  {
   "cell_type": "code",
   "execution_count": null,
   "metadata": {
    "vscode": {
     "languageId": "javascript"
    }
   },
   "outputs": [],
   "source": [
    "const myElement = <h1 className=\"myclass\">Hello World</h1>;"
   ]
  },
  {
   "cell_type": "markdown",
   "metadata": {},
   "source": [
    "6. Style value must now be a `JavaScript object` with camelCased properties"
   ]
  },
  {
   "cell_type": "code",
   "execution_count": null,
   "metadata": {
    "vscode": {
     "languageId": "javascript"
    }
   },
   "outputs": [],
   "source": [
    "const element = <p style=\"color: blue; font-size: 16px \">Styled text.</p>;\n",
    "\n",
    "const style_data = {\n",
    "    color: 'blue',\n",
    "    fontSize: '16px'\n",
    "};\n",
    "\n",
    "const element = <p style={style_data}>Styled text.</p>;\n",
    "\n",
    "const element = <p style={{color: 'blue', fontSize: '16px'}}>Styled text.</p>;"
   ]
  },
  {
   "cell_type": "markdown",
   "metadata": {},
   "source": [
    "7. Links should be used rather than anchors"
   ]
  },
  {
   "cell_type": "code",
   "execution_count": null,
   "metadata": {
    "vscode": {
     "languageId": "javascript"
    }
   },
   "outputs": [],
   "source": [
    "import React from 'react';\n",
    "import { Link } from 'react-router-dom';\n",
    "\n",
    "const MyComponent = () => (\n",
    "  <div>\n",
    "    <Link to=\"/page\">Go to Page</Link>\n",
    "  </div>\n",
    ");\n",
    "\n",
    "// Links do not trigger a page refresh\n",
    "export default MyComponent;"
   ]
  },
  {
   "cell_type": "markdown",
   "metadata": {},
   "source": [
    "8. It takes effort to cross-script it"
   ]
  },
  {
   "cell_type": "code",
   "execution_count": null,
   "metadata": {
    "vscode": {
     "languageId": "javascript"
    }
   },
   "outputs": [],
   "source": [
    "const someHTMLString = \"<h1>Hello</h1>\";            // string of HTML\n",
    "const someJSXString = <h1>Hello</h1>;              // JSX      \n",
    "\n",
    "const elem = <div>{someHTMLString}</div>;\n",
    "const elem2 = <div>{someJSXString}</div>;          // <div><h1>Hello</h1></div>\n",
    "\n",
    "// Never treat a string as code (unlike JavaScript)\n",
    "\n",
    "const element = <div dangerouslySetInnerHTML={{ __html:  someHTMLString }} />;"
   ]
  },
  {
   "cell_type": "markdown",
   "metadata": {},
   "source": [
    "#### Some Common JSX Patterns\n",
    "- Sadly `constrained` by being only able to `evaluating expressions`"
   ]
  },
  {
   "cell_type": "code",
   "execution_count": null,
   "metadata": {
    "vscode": {
     "languageId": "javascript"
    }
   },
   "outputs": [],
   "source": [
    "// 1. If conditions \n",
    "const isLoggedIn = true;\n",
    "const isGettingStarted = true;\n",
    "const isTall = false;\n",
    "\n",
    "const element1 = <div>{isLoggedIn && isGettingStarted && <p>Welcome back!</p>}</div>;\n",
    "\n",
    "// 2. If condition with else\n",
    "const isLoggedIn = true;\n",
    "const element = <div>{isLoggedIn ? <p>Welcome back!</p> : <p>Please log in.</p>}</div>;\n",
    "\n",
    "// 3. Another use-case\n",
    "// Any attribute that takes a string can take js in {} that is casted to a string\n",
    "const isImportant = true;\n",
    "const element = <div className={isImportant ? 'important' : 'not-important'}>Content </div>;\n",
    "\n",
    "// 4. Setting attributes (not trivial)\n",
    "const commonAttrs = { className: 'common', id: 'element-id' };\n",
    "const element = <div {...commonAttrs}>Content</div>;\n",
    "\n",
    "// Equivalent to\n",
    "const element = <div className=\"common\" id=\"element-id\">Content</div>;\n",
    "\n",
    "// 5. Looping\n",
    "const items = ['Apple', 'Banana', 'Orange'];\n",
    "const element = <ul>\n",
    "\n",
    "{ items.map(item => <li key={item}> {item}</li>) }\n",
    "\n",
    "</ul>;\n",
    "\n",
    "\n",
    "// Equivalent to\n",
    "const element = (\n",
    "  <ul>\n",
    "    <li key=\"Apple\">Apple</li>\n",
    "    <li key=\"Banana\">Banana</li>\n",
    "    <li key=\"Orange\">Orange</li>\n",
    "  </ul>\n",
    ");"
   ]
  },
  {
   "cell_type": "markdown",
   "metadata": {},
   "source": [
    "9. Can be treated as a JSX component if returned from a function\n",
    "- JSX component is like a custom HTML element"
   ]
  },
  {
   "cell_type": "code",
   "execution_count": null,
   "metadata": {
    "vscode": {
     "languageId": "javascript"
    }
   },
   "outputs": [],
   "source": [
    "const NavBar = () => <div>This is my navigation bar</div>;\n",
    "const Footer = () => <div>This is my footer</div>;\n",
    "\n",
    "const Cont = ({a, b}) => (\n",
    "  <div>\n",
    "    <h1>Cont Component {a} as {b}</h1>\n",
    "    <NavBar/>\n",
    "    <Footer/>\n",
    "  </div>\n",
    ");\n",
    "\n",
    "\n",
    "const App = () => (\n",
    "  <div>\n",
    "    <h1>App Component</h1>\n",
    "    <Cont a=\"3\" b=\"2\"/>\n",
    "  </div>\n",
    ");"
   ]
  },
  {
   "cell_type": "markdown",
   "metadata": {},
   "source": [
    "#### Should make sense that\n",
    "- Each `page` in a React app is a `component` (state + methods + JSX UI)\n",
    "\n",
    "- Such component uses other `smaller components` (some can be shared)\n",
    "\n",
    "- Typically also has its own `CSS` file and `test` file\n",
    "\n",
    "#### React injects your whole website in a single page\n",
    "\n",
    "- It assumes your whole website is in `App.js`\n",
    "\n",
    "- Uses `index.js` to inject it into `index.html`"
   ]
  },
  {
   "cell_type": "markdown",
   "metadata": {},
   "source": [
    "### Complementary Tools for React to be usable \n",
    "1. React doesn't render the UI by itself, so we need `ReactDOM` library\n",
    "2. However React doesn't understand JSX, so we use `Babel` library\n",
    "3. `Vite`: It's a build tool that installs all the required libraries for starting using react in it's desirable fashion\n",
    "\n",
    "`note`: There is even more tools and dependencies"
   ]
  },
  {
   "cell_type": "markdown",
   "metadata": {},
   "source": [
    "### Building React using Vite\n",
    "1. To create react app, run the following command\n",
    "  \n",
    "    ```bash\n",
    "    npm create vite@latest\n",
    "    ```\n",
    "2. Follow the steps \n",
    "### Let's build our first project!!!\n",
    "\n",
    "<p align=\"center\">\n",
    "<img src=\"https://i.imgur.com/mrGTn4v.png\" width=\"70%\">\n",
    "<img src=\"https://i.imgur.com/PNpTuSe.png\" width=\"70%\">\n",
    "</p>"
   ]
  },
  {
   "cell_type": "markdown",
   "metadata": {},
   "source": [
    "### React Hooks\n",
    "React Hooks are functions that allow you to use React state and lifecycle features in functional components.\n",
    "### Most Common Hooks\n",
    "#### 1. useState\n",
    "- useState is a React Hook that lets you add a state variable to your component and update this state.\n",
    "- syntax:"
   ]
  },
  {
   "cell_type": "code",
   "execution_count": null,
   "metadata": {
    "vscode": {
     "languageId": "javascript"
    }
   },
   "outputs": [],
   "source": [
    "const [state, setState] = useState(initialState)"
   ]
  },
  {
   "cell_type": "markdown",
   "metadata": {},
   "source": [
    "#### 2. useEffect\n",
    "- Handles side effects in functional components (e.g., data fetching, subscriptions, or manually changing the DOM)."
   ]
  },
  {
   "cell_type": "code",
   "execution_count": null,
   "metadata": {
    "vscode": {
     "languageId": "javascript"
    }
   },
   "outputs": [],
   "source": [
    "const [count, setCount] = useState(0);\n",
    "\n",
    "// dependency array is not empty  \n",
    "useEffect(() => {\n",
    "    document.title = `You clicked ${count} times`;\n",
    "  }, [count]); // Only re-run the effect if count changes\n",
    "\n",
    "//empty dependency array\n",
    "useEffect(() => {\n",
    "    document.title = `You clicked ${count} times`;\n",
    "  }, []); // Only run the effect once\n",
    "\n",
    "// dependency array is not present\n",
    "useEffect(() => {\n",
    "    document.title = `You clicked ${count} times`;\n",
    "  }); // Run the effect after every render"
   ]
  },
  {
   "cell_type": "markdown",
   "metadata": {
    "vscode": {
     "languageId": "plaintext"
    }
   },
   "source": [
    "### How does React renders elements\n",
    "#### DOM: \n",
    "<p align=\"center\">\n",
    "<img src=\"https://wikitechy.com/step-by-step-html-tutorials/img/html-images/dom-in-html-and-javascript.png\" width=1000/>\n",
    "</p>\n",
    "\n",
    "#### react updating DOM \n",
    "- This operation goes throw 3 steps\n",
    "  1. Trigger\n",
    "  2. Render\n",
    "  3. Commit\n",
    "\n",
    "##### 1.Trigger\n",
    "- Every re-render in React starts with a state change\n",
    "\n",
    "##### 2.Render\n",
    "- At the beginning, changes are updated in the <font color=\"green\">Virtual DOM</font>\n",
    "- When re-rendering a component <font color=\"red\">all</font> it's decendents are also re-rendered (sth like dfs algo) <font color=\"red\">except</font> by using some hooks\n",
    "- Check this [link](https://www.joshwcomeau.com/react/why-react-re-renders)\n",
    "\n",
    "<p align=\"center\">\n",
    "  <img src=\"https://external-content.duckduckgo.com/iu/?u=https%3A%2F%2Fs3.amazonaws.com%2Fmedia-p.slid.es%2Fuploads%2F63938%2Fimages%2F2379617%2Fvirtual-dom-update.png&f=1&nofb=1&ipt=2d49b33b17db974f3225152bbdc6ac41326e29e67a952d91930aa9da4256e0f0&ipo=images\" width=800/>\n",
    "</p>\n",
    "\n",
    "- changes are batched in the virtual DOM and updates are not commited directly to the DOM\n",
    "- Notice the following code:\n",
    "\n",
    "```jsx\n",
    "\n",
    "  export defualt function customButton(){\n",
    "    const [count , setCount] = useState(0);\n",
    "    const increment = () =>{\n",
    "        setCount(count+1);\n",
    "        setCount(count+1);\n",
    "        setCount(count+1);\n",
    "    }\n",
    "\n",
    "    return (\n",
    "      <>\n",
    "        <p>count = {count} </p>\n",
    "        <button onClick(increment)>Increment by 3</button>\n",
    "      </>\n",
    "    )\n",
    "  }\n",
    "  ```\n",
    "\n",
    "- by making one click on the button count will only be incremented by 1\n",
    "##### 3.Commit\n",
    "- Reacts modify the DOM to update the changes with the least ammount of operations\n",
    "- Finally we've got the real DOM same as the virtual DOM and changes are reflected\n",
    "\n",
    "#### Can't we just skip the step of the virtual DOM and write directly to the DOM?\n",
    "- Actually writting to the DOM is a high cost operation\n",
    "- The job of the virtual DOM is to minimize the number of operations you want to write to the DOM\n",
    "- This enhances much the performance of the application"
   ]
  },
  {
   "cell_type": "markdown",
   "metadata": {
    "vscode": {
     "languageId": "plaintext"
    }
   },
   "source": [
    "## Resources & links\n",
    "- [Why to use a framework?](https://dev.to/afrazchelsea/react-vs-vanilla-js-what-why-and-when-1jin)\n",
    "- [Imperative vs Declarative programming styles](https://stackoverflow.com/questions/1784664/what-is-the-difference-between-declarative-and-imperative-paradigm-in-programmin)\n",
    "- [Imperative (vanilla js) vs Declarative (React)](https://medium.com/@mattidungafa/react-vs-vanilla-js-an-imperative-vs-declarative-story-8a5eedbff212)\n",
    "- [VERY RECOMMENDED VIDEO: How react works](https://www.youtube.com/watch?v=za2FZ8QCE18) \n",
    "- [RECOMMENDED READING: Why React re-renders?](https://www.joshwcomeau.com/react/why-react-re-renders/)\n",
    "- [FrameWork vs Library](https://www.geeksforgeeks.org/software-framework-vs-library/)\n",
    "- [React styling method](https://css-tricks.com/different-ways-to-write-css-in-react/)\n",
    "- [React documentation](https://react.dev/)"
   ]
  }
 ],
 "metadata": {
  "language_info": {
   "name": "python"
  }
 },
 "nbformat": 4,
 "nbformat_minor": 2
}
