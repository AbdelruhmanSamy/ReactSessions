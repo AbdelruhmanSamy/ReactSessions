{
 "cells": [
  {
   "cell_type": "markdown",
   "metadata": {},
   "source": [
    "# Continue<font color=\"DarkOrange\"> ReactJS</font>"
   ]
  },
  {
   "cell_type": "markdown",
   "metadata": {},
   "source": [
    "## React Router"
   ]
  },
  {
   "cell_type": "code",
   "execution_count": null,
   "metadata": {
    "vscode": {
     "languageId": "javascript"
    }
   },
   "outputs": [],
   "source": [
    "import {createBrowserRouter , RouterProvider} from 'react-router-dom';\n",
    "\n",
    "import Navbar from './components/Navbar/Navbar';\n",
    "import Home from './pages/Home/Home';\n",
    "import Create from './pages/Create/Create';\n",
    "import BlogDetails from './pages/BlogDetails/BlogDetails';\n",
    "\n",
    "const router = createBrowserRouter([\n",
    "  {\n",
    "    path: \"/\",\n",
    "    element: <Home/>\n",
    "  },\n",
    "  {\n",
    "    path: \"/create\",\n",
    "    element : <Create/>\n",
    "  },\n",
    "  {\n",
    "    path: \"/blogs/:blogId\",\n",
    "    elemnent: <BlogDetails/>\n",
    "  }\n",
    "]);\n",
    "\n",
    "function App() {\n",
    "  return (\n",
    "    <>\n",
    "      <Navbar/>\n",
    "      <RouterProvider router={router}/>\n",
    "    </>\n",
    "  );\n",
    "}\n",
    "\n",
    "export default App;"
   ]
  },
  {
   "cell_type": "markdown",
   "metadata": {
    "vscode": {
     "languageId": "plaintext"
    }
   },
   "source": [
    "## More Hooks"
   ]
  },
  {
   "cell_type": "markdown",
   "metadata": {},
   "source": [
    "### 1. <font color=\"DarkOrange\">useReducer</font>\n",
    "- State Hook\n",
    "- It's change require DOM re-render\n",
    "- It takes 2 parameters:\n",
    "  1. `reducer` function\n",
    "     - the function that changes the state\n",
    "     - It takes 2 parameters \n",
    "        1. `state` : readOnly parameter\n",
    "        2. `action` : will be passed to update current state\n",
    "  2. The initial `state`"
   ]
  },
  {
   "cell_type": "code",
   "execution_count": null,
   "metadata": {
    "vscode": {
     "languageId": "javascript"
    }
   },
   "outputs": [],
   "source": [
    "//un-working counter\n",
    "\n",
    "import { useReducer } from 'react'\n",
    "\n",
    "// reducer function template\n",
    "function reducer(state , action){\n",
    "    newState = {};\n",
    "    return newState\n",
    "}\n",
    "\n",
    "function Counter() {\n",
    "\n",
    "  const [state , dispatch] = useReducer(reducer , {count: 0})\n",
    "  return (\n",
    "    <div>\n",
    "        <button>Increment</button>\n",
    "        <p>{state.count}</p>\n",
    "    </div>\n",
    "  )\n",
    "}\n",
    "\n",
    "export default Counter\n"
   ]
  },
  {
   "cell_type": "markdown",
   "metadata": {},
   "source": [
    "- It returns:\n",
    "  1. state variable that represents the current state\n",
    "  2. `dispatch` function:\n",
    "     1. used to call reducer function for updating state\n",
    "     2. we pass only the `action` to function dispatch"
   ]
  },
  {
   "cell_type": "code",
   "execution_count": null,
   "metadata": {
    "vscode": {
     "languageId": "javascript"
    }
   },
   "outputs": [],
   "source": [
    "// we will be called upon button click\n",
    "function handleButtonClick(e){\n",
    "  dispatch({\n",
    "    type:\"increment_count\"\n",
    "  })\n",
    "}\n"
   ]
  },
  {
   "cell_type": "code",
   "execution_count": null,
   "metadata": {
    "vscode": {
     "languageId": "javascript"
    }
   },
   "outputs": [],
   "source": [
    "// Full working component\n",
    "import { useReducer } from 'react'\n",
    "\n",
    "function reducer(state , action){\n",
    "    switch(action.type){\n",
    "      case \"incrementCount\":\n",
    "        return {\n",
    "          count:state.count + 1\n",
    "        }\n",
    "    }\n",
    "}\n",
    "\n",
    "function Counter() {\n",
    "\n",
    "  const [state , dispatch] = useReducer(reducer , {count: 0})\n",
    "\n",
    "  function handleButtonClick(e){\n",
    "    dispatch({\n",
    "      type:\"incrementCount\"\n",
    "    })\n",
    "  }\n",
    "\n",
    "  return (\n",
    "    <div>\n",
    "        <button onClick={handleButtonClick}>Increment</button>\n",
    "        <p>{state.count}</p>\n",
    "    </div>\n",
    "  )\n",
    "}\n",
    "\n",
    "export default Counter\n"
   ]
  },
  {
   "cell_type": "code",
   "execution_count": null,
   "metadata": {
    "vscode": {
     "languageId": "javascript"
    }
   },
   "outputs": [],
   "source": [
    "// Example of input data form\n",
    " \n",
    "import { useReducer } from 'react'\n",
    "\n",
    "function reducer(state , action){\n",
    "  switch(action.type){\n",
    "    case \"nameChanged\":\n",
    "      return {\n",
    "        name:action.newName,\n",
    "        age: state.age\n",
    "      }\n",
    "    case \"ageIncrement\":\n",
    "      return {\n",
    "        name: state.name,\n",
    "        age: state.age + 1\n",
    "      }\n",
    "  }\n",
    "  throw Error(\"Unknown action\" + action.type);  \n",
    "}\n",
    "\n",
    "function Form() {\n",
    "\n",
    "  const [state , dispatch] = useReducer(reducer , {name: \"Abdelruhman\" , age:22})\n",
    "\n",
    "  return (\n",
    "    <div>\n",
    "      <div>\n",
    "\n",
    "        <input value={state.name} onChange={(e)=> dispatch({type:\"nameChanged\" , newName:e.target.value})}/>\n",
    "        <button onClick={(e)=> dispatch({type:\"ageIncrement\"})}>Increment age</button>\n",
    "        <p>This is {state.name}, Iam {state.age} years old</p>\n",
    "        \n",
    "      </div>  \n",
    "    </div>\n",
    "  )\n",
    "}\n",
    "\n",
    "export default Form\n"
   ]
  },
  {
   "cell_type": "markdown",
   "metadata": {},
   "source": [
    "`Summary`: Use useReducer when you start having a complex state that is using a lot of different useState"
   ]
  },
  {
   "cell_type": "markdown",
   "metadata": {},
   "source": [
    "### 2. <font color=\"DarkOrange\">useContext</font>\n",
    "- Used to pass data deeply down the tree\n",
    "- Usage\n",
    "   1. use `createContext()` function to create a context\n",
    "   2. add `provider` for the created context\n",
    "   3. In the component that you want to be affected by the context value, use `useContext()` that returns the value provided by the <font color=\"red\">nearst parent in the DOM tree</font>\n",
    "- [click here to try it](https://react.dev/reference/react/useContext#usage)"
   ]
  },
  {
   "cell_type": "code",
   "execution_count": null,
   "metadata": {
    "vscode": {
     "languageId": "javascript"
    }
   },
   "outputs": [],
   "source": [
    "// App.js\n",
    "import { createContext, useState } from \"react\"\n",
    "import Form from \"./components/form/Form\"\n",
    "\n",
    "export const ThemeContext = createContext(null)\n",
    "\n",
    "function App() {\n",
    "  \n",
    "  const [theme , setTheme] = useState('light')\n",
    "  return (\n",
    "    <ThemeContext.Provider value={{theme , setTheme}}>\n",
    "      <Form />\n",
    "    </ThemeContext.Provider>\n",
    ")\n",
    "}\n",
    "\n",
    "export default App\n"
   ]
  },
  {
   "cell_type": "code",
   "execution_count": null,
   "metadata": {
    "vscode": {
     "languageId": "javascript"
    }
   },
   "outputs": [],
   "source": [
    "// Form component\n",
    "\n",
    "import React, { useContext, useEffect, useState } from 'react'\n",
    "import { useReducer } from 'react'\n",
    "import \"../../../public/form.css\"\n",
    "import {ThemeContext} from \"../../App\"\n",
    "\n",
    "function Form() {\n",
    "\n",
    "    const [age , setAge] = useState(0);\n",
    "    const [name , setName] = useState(\"\");\n",
    "    const themeObj = useContext(ThemeContext)   \n",
    "  \n",
    "    console.log(\"theme = \" , themeObj)\n",
    "  \n",
    "  \n",
    "    return (\n",
    "        <div className='container'>\n",
    "            <div className='form'>\n",
    "                <input value={name} onChange={(e) => setName(e.target.value)}/>\n",
    "                <button onClick={()=>setAge(age+1)} style={{backgroundColor:buttonColor}}>Increment age</button>\n",
    "                <p>My name is {name}, Iam {age} years old</p>\n",
    "                <button onClick={()=> themeObj.setTheme(themeObj.theme === 'dark' ? 'light':'dark')}>change theme</button>\n",
    "            </div>\n",
    "        </div>  \n",
    "    )\n",
    "  }\n",
    "\n",
    "  export default Form\n",
    "\n"
   ]
  },
  {
   "cell_type": "markdown",
   "metadata": {},
   "source": [
    "`Note`: you can override context in a part of the tree:"
   ]
  },
  {
   "cell_type": "code",
   "execution_count": null,
   "metadata": {
    "vscode": {
     "languageId": "javascript"
    }
   },
   "outputs": [],
   "source": [
    "<ThemeContext.Provider value=\"dark\">\n",
    "  ...\n",
    "  <ThemeContext.Provider value=\"light\">\n",
    "    <Footer />\n",
    "  </ThemeContext.Provider>\n",
    "  ...\n",
    "</ThemeContext.Provider>"
   ]
  },
  {
   "cell_type": "markdown",
   "metadata": {},
   "source": [
    "### 3. <font color=\"DarkOrange\">useMemo</font>\n",
    "\n",
    "- Suppose components re-renders when state X changes\n",
    "\n",
    "- It will run all the JavScript code in the component\n",
    "\n",
    "- What if we do some computation in the JS code that is not related to the state X?"
   ]
  },
  {
   "cell_type": "code",
   "execution_count": null,
   "metadata": {
    "vscode": {
     "languageId": "javascript"
    }
   },
   "outputs": [],
   "source": [
    "import React, { useEffect, useMemo } from 'react';\n",
    "\n",
    "const ExampleComponent = ({ a, b }) => {\n",
    "\n",
    "  const [x, setX] = useState(0);\n",
    "\n",
    "  // Calculate the sum of a and b using useMemo\n",
    "  const sum = useMemo(() => a + b, [a, b]); \n",
    "    // skip computing the sum if a or b don't change\n",
    "\n",
    "  // Better than\n",
    "  //const unefficientSum = a + b;\n",
    "\n",
    "  return (\n",
    "    <>\n",
    "      <button onClick={() => setX(x + 1)}>Increment a</button>\n",
    "      <div> {x}Sum: {unefficientSum}</div>\n",
    "    </>\n",
    "  )};\n",
    "\n",
    "export default ExampleComponent;"
   ]
  },
  {
   "cell_type": "markdown",
   "metadata": {},
   "source": [
    "### 4. <font color=\"DarkOrange\">useRef</font>\n",
    "- Returns an object has a property called \"current\" \n",
    "- `object.current` be used to attach state that doesn't trigger re-rendering (but persists unlike variables)\n",
    "- Used to manipulate the DOM\n",
    "- Try it from [here](https://react.dev/learn/manipulating-the-dom-with-refs#example-focusing-a-text-input)"
   ]
  },
  {
   "cell_type": "code",
   "execution_count": null,
   "metadata": {
    "vscode": {
     "languageId": "javascript"
    }
   },
   "outputs": [],
   "source": [
    "import { useRef } from 'react';\n",
    "\n",
    "export default function Form() {\n",
    "  const inputRef = useRef(null);\n",
    "\n",
    "  function handleClick() {\n",
    "    inputRef.current.focus();\n",
    "  }\n",
    "\n",
    "  return (\n",
    "    <>\n",
    "      <input ref={inputRef} />\n",
    "      <button onClick={handleClick}>\n",
    "        Focus the input\n",
    "      </button>\n",
    "    </>\n",
    "  );\n",
    "}"
   ]
  },
  {
   "cell_type": "markdown",
   "metadata": {},
   "source": [
    "### 5. <font color=\"DarkOrange\">Let's create Our custom hook</font>\n"
   ]
  },
  {
   "cell_type": "code",
   "execution_count": null,
   "metadata": {
    "vscode": {
     "languageId": "javascript"
    }
   },
   "outputs": [],
   "source": [
    "import { useState, useEffect } from 'react';\n",
    "\n",
    "const useFetch = (url) => {\n",
    "\n",
    "  const [data, setData] = useState(null);\n",
    "  const [isPending, setIsPending] = useState(true);\n",
    "  const [error, setError] = useState(null);\n",
    "\n",
    "  useEffect(() => {\n",
    "    const fetchData = async () => {\n",
    "\n",
    "      try {\n",
    "        const response = await fetch(url);\n",
    "\n",
    "        if (!response.ok)   throw new Error('Could not fetch the data for that resource');\n",
    "        \n",
    "        const responseData = await response.json();\n",
    "\n",
    "        setIsPending(false);\n",
    "        setData(responseData);\n",
    "        setError(null);\n",
    "\n",
    "      } \n",
    "      catch (err) {\n",
    "          setIsPending(false);\n",
    "          setError(err.message);\n",
    "      }\n",
    "    };\n",
    "\n",
    "   setTimeout(fetchData, 1000);\n",
    "\n",
    "  }, [url]);\n",
    "\n",
    "  return { data, isPending, error };\n",
    "};\n",
    "\n",
    "export default useFetch;\n"
   ]
  },
  {
   "cell_type": "markdown",
   "metadata": {},
   "source": [
    "## Some Useful `NPM Packages`"
   ]
  },
  {
   "cell_type": "markdown",
   "metadata": {},
   "source": [
    "Check them all [here](https://www.npmjs.com/)"
   ]
  },
  {
   "cell_type": "markdown",
   "metadata": {},
   "source": [
    "#### <font color=\"orange\"> Material UI </font>\n",
    "<img src=\"https://i.imgur.com/KPlBDyY.png\" width=600 />"
   ]
  },
  {
   "cell_type": "code",
   "execution_count": null,
   "metadata": {
    "vscode": {
     "languageId": "javascript"
    }
   },
   "outputs": [],
   "source": [
    "// npm install @mui/material @emotion/react @emotion/styled\n",
    "\n",
    "import React from 'react';\n",
    "import Button from '@mui/material/Button';\n",
    "\n",
    "const MyComp = () => {\n",
    "  return (\n",
    "    <div>\n",
    "      <h1>Material-UI Button Example</h1>\n",
    "      <Button variant=\"contained\" color=\"primary\">\n",
    "        Click Me\n",
    "      </Button>\n",
    "    </div>\n",
    "  );\n",
    "};\n",
    "\n",
    "export default MyComp;"
   ]
  },
  {
   "cell_type": "markdown",
   "metadata": {},
   "source": [
    "#### <font color=\"orange\"> React Icons </font>\n",
    "<img src=\"https://i.imgur.com/q9g6Iwq.png\">"
   ]
  },
  {
   "cell_type": "code",
   "execution_count": null,
   "metadata": {
    "vscode": {
     "languageId": "javascript"
    }
   },
   "outputs": [],
   "source": [
    "//rx is the icon family\n",
    "import { IconName } from \"react-icons/rx\";                             "
   ]
  },
  {
   "cell_type": "markdown",
   "metadata": {},
   "source": [
    "#### <font color=\"orange\"> MediaQuery </font>"
   ]
  },
  {
   "cell_type": "code",
   "execution_count": null,
   "metadata": {
    "vscode": {
     "languageId": "javascript"
    }
   },
   "outputs": [],
   "source": [
    "import React from 'react';\n",
    "import MediaQuery from 'react-responsive';\n",
    "\n",
    "const App = () =>\n",
    "{\n",
    "    return (\n",
    "        <>\n",
    "        <MediaQuery minWidth={1070}>\n",
    "            <NavigationBar />\n",
    "        </MediaQuery>\n",
    "        <MediaQuery maxWidth={1070}>\n",
    "            <NavigationBarResp pageRef={wrapperRef} />\n",
    "        </MediaQuery>\n",
    "      </>\n",
    "    )\n",
    "}"
   ]
  },
  {
   "cell_type": "markdown",
   "metadata": {},
   "source": [
    "## Redux Toolkit\n"
   ]
  },
  {
   "cell_type": "markdown",
   "metadata": {},
   "source": [
    "- Usage: making global state used anywhere in the DOM Tree\n",
    "\n",
    "- Installation"
   ]
  },
  {
   "cell_type": "code",
   "execution_count": null,
   "metadata": {
    "vscode": {
     "languageId": "shellscript"
    }
   },
   "outputs": [],
   "source": [
    "- npm install @reduxjs/toolkit\n",
    "\n",
    "- npm install react-redux"
   ]
  },
  {
   "cell_type": "markdown",
   "metadata": {},
   "source": [
    "// store.js -> states\n",
    "// IN app.js -> Provider -> store is available\n",
    "// slice -> "
   ]
  },
  {
   "cell_type": "markdown",
   "metadata": {},
   "source": [
    "### Steps to use redux"
   ]
  },
  {
   "cell_type": "markdown",
   "metadata": {},
   "source": [
    "Step 1. Make a `slices` folder with a `store.js` inside it and export the `store` from it which exposes the states to the rest of the app."
   ]
  },
  {
   "cell_type": "code",
   "execution_count": null,
   "metadata": {
    "vscode": {
     "languageId": "javascript"
    }
   },
   "outputs": [],
   "source": [
    "import { configureStore } from '@reduxjs/toolkit';\n",
    "\n",
    "const store = configureStore({\n",
    "  \n",
    "});\n",
    "\n",
    "export default store;"
   ]
  },
  {
   "cell_type": "markdown",
   "metadata": {},
   "source": [
    "Step 2. Wrap the App in a `Provider` component that takes the `store` as a prop"
   ]
  },
  {
   "cell_type": "code",
   "execution_count": null,
   "metadata": {
    "vscode": {
     "languageId": "javascript"
    }
   },
   "outputs": [],
   "source": [
    "// In index.js  \n",
    "import { Provider } from 'react-redux';\n",
    "import store from './slices/store';\n",
    "\n",
    "import { StrictMode } from 'react'\n",
    "import { createRoot } from 'react-dom/client'\n",
    "import App from './App'\n",
    "\n",
    "createRoot(document.getElementById('root')).render(\n",
    "    <Provider store={store}>\n",
    "        <StrictMode>\n",
    "            <App/>\n",
    "        </StrictMode>,\n",
    "    </Provider>\n",
    ")\n"
   ]
  },
  {
   "cell_type": "markdown",
   "metadata": {},
   "source": [
    "<p align='center'>_____________________   Done Only Once _____________________  </p>"
   ]
  },
  {
   "cell_type": "markdown",
   "metadata": {},
   "source": [
    "Step 3. Wrap related state in a `slice` by definiting its `name` and `initialState` and `reducers` in `createSlice` function"
   ]
  },
  {
   "cell_type": "code",
   "execution_count": null,
   "metadata": {
    "vscode": {
     "languageId": "javascript"
    }
   },
   "outputs": [],
   "source": [
    "import { createSlice } from '@reduxjs/toolkit';\n",
    "\n",
    "const themeCollection = createSlice({\n",
    "\n",
    "  name: 'themeCollection',                   // 1. Specify the name\n",
    "\n",
    "  initialState: {                           // 2. Define your state and initial values here\n",
    "\n",
    "    theme: 'magenta',\n",
    "    darkMode: false,\n",
    "\n",
    "  },\n",
    "\n",
    "  reducers: {                              // 3. Define functions that manipulate state\n",
    "\n",
    "    setTheme: (state, action) => {\n",
    "      state.theme = action.payload;\n",
    "    },\n",
    "\n",
    "    setDarkMode: (state, action) => {\n",
    "      state.darkMode = action.payload;\n",
    "    },\n",
    "\n",
    "  },\n",
    "\n",
    "});                                         // 4. Export all needed functions\n",
    "\n",
    "export const { setTheme  , setDarkMode} = themeCollection.actions;\n",
    "\n",
    "export default themeCollection.reducer;      // 5. Export the reducer to the store"
   ]
  },
  {
   "cell_type": "markdown",
   "metadata": {},
   "source": [
    "Step 4. Add the slice to the store"
   ]
  },
  {
   "cell_type": "code",
   "execution_count": null,
   "metadata": {
    "vscode": {
     "languageId": "javascript"
    }
   },
   "outputs": [],
   "source": [
    "import { configureStore } from '@reduxjs/toolkit';\n",
    "import themeReducer from './themeSlice';\n",
    "\n",
    "const store = configureStore({\n",
    "    reducer: {\n",
    "        themeCollection: themeReducer,\n",
    "    },\n",
    "});\n",
    "\n",
    "export default store;"
   ]
  },
  {
   "cell_type": "markdown",
   "metadata": {},
   "source": [
    "Step 5. Use the state in any component\n",
    "- Any action must be dispatched to call it (i.e., wrap with `dispatch()` from `useDispatch()`)\n",
    "- Should pass the function that returns state to `useSelector` to get the state itself"
   ]
  },
  {
   "cell_type": "code",
   "execution_count": null,
   "metadata": {
    "vscode": {
     "languageId": "javascript"
    }
   },
   "outputs": [],
   "source": [
    "import { useDispatch, useSelector } from 'react-redux';\n",
    "\n",
    "const app = () => {\n",
    "    const theme = useSelector((state)=> state.themeCollection.theme );\n",
    "    \n",
    "    const dispatch = useDispatch();\n",
    "\n",
    "    const SetTheme = (theme) => dispatch(setTheme(theme));\n",
    "\n",
    "    // const [theme, setTheme] = [useSelector(selectTheme), (theme) => dispatch(setTheme(theme))];\n",
    "}"
   ]
  },
  {
   "cell_type": "markdown",
   "metadata": {},
   "source": [
    "Sum up: Flow of react redux"
   ]
  },
  {
   "cell_type": "markdown",
   "metadata": {},
   "source": [
    "<img src=\"https://miro.medium.com/v2/resize:fit:720/format:webp/1*PPs7sjqT1JKidDIngXrd4w.png\"/>"
   ]
  },
  {
   "cell_type": "markdown",
   "metadata": {},
   "source": [
    "## Resources\n",
    "1. [React Router](https://www.youtube.com/watch?v=oTIJunBa6MA)\n",
    "2. [Hooks](https://react.dev/reference/react/hooks)\n",
    "3. [Redux](https://www.youtube.com/watch?v=5yEG6GhoJBs)"
   ]
  }
 ],
 "metadata": {
  "language_info": {
   "name": "python"
  }
 },
 "nbformat": 4,
 "nbformat_minor": 2
}
